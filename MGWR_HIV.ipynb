{
 "cells": [
  {
   "cell_type": "code",
   "execution_count": 1,
   "metadata": {},
   "outputs": [],
   "source": [
    "import pandas as pd\n",
    "import numpy as np\n",
    "import matplotlib.pyplot as plt\n",
    "import seaborn as sns\n",
    "import scipy.stats as stats\n",
    "\n",
    "df = pd.read_csv('HIV_NYC_GWR.csv')"
   ]
  },
  {
   "cell_type": "code",
   "execution_count": 2,
   "metadata": {},
   "outputs": [
    {
     "data": {
      "text/html": [
       "<div>\n",
       "<style scoped>\n",
       "    .dataframe tbody tr th:only-of-type {\n",
       "        vertical-align: middle;\n",
       "    }\n",
       "\n",
       "    .dataframe tbody tr th {\n",
       "        vertical-align: top;\n",
       "    }\n",
       "\n",
       "    .dataframe thead th {\n",
       "        text-align: right;\n",
       "    }\n",
       "</style>\n",
       "<table border=\"1\" class=\"dataframe\">\n",
       "  <thead>\n",
       "    <tr style=\"text-align: right;\">\n",
       "      <th></th>\n",
       "      <th>Unnamed: 0</th>\n",
       "      <th>geoid</th>\n",
       "      <th>HIV_Case</th>\n",
       "      <th>HIV_Rate</th>\n",
       "      <th>year</th>\n",
       "      <th>Median monthly housing costs</th>\n",
       "      <th>% with 4year college degree</th>\n",
       "      <th>% unemployed</th>\n",
       "      <th>% manufacturing</th>\n",
       "      <th>% below poverty</th>\n",
       "      <th>...</th>\n",
       "      <th>% multiunit structures</th>\n",
       "      <th>% &lt; 18 years old</th>\n",
       "      <th>% black</th>\n",
       "      <th>% white</th>\n",
       "      <th>% Hispanic</th>\n",
       "      <th>% Asian</th>\n",
       "      <th>% foreign born</th>\n",
       "      <th>% health insurance</th>\n",
       "      <th>% without health insurance</th>\n",
       "      <th>HIV_Case_log</th>\n",
       "    </tr>\n",
       "  </thead>\n",
       "  <tbody>\n",
       "    <tr>\n",
       "      <th>0</th>\n",
       "      <td>0</td>\n",
       "      <td>10001</td>\n",
       "      <td>4698</td>\n",
       "      <td>928</td>\n",
       "      <td>2018</td>\n",
       "      <td>1817</td>\n",
       "      <td>37.864887</td>\n",
       "      <td>3.514080</td>\n",
       "      <td>2.138100</td>\n",
       "      <td>13.263494</td>\n",
       "      <td>...</td>\n",
       "      <td>90.298447</td>\n",
       "      <td>8.650323</td>\n",
       "      <td>6.163846</td>\n",
       "      <td>62.912232</td>\n",
       "      <td>14.159832</td>\n",
       "      <td>25.187576</td>\n",
       "      <td>32.341651</td>\n",
       "      <td>94.269258</td>\n",
       "      <td>5.730742</td>\n",
       "      <td>8.454892</td>\n",
       "    </tr>\n",
       "    <tr>\n",
       "      <th>1</th>\n",
       "      <td>1</td>\n",
       "      <td>10002</td>\n",
       "      <td>1230</td>\n",
       "      <td>885</td>\n",
       "      <td>2018</td>\n",
       "      <td>980</td>\n",
       "      <td>21.852603</td>\n",
       "      <td>4.919751</td>\n",
       "      <td>3.746494</td>\n",
       "      <td>27.657486</td>\n",
       "      <td>...</td>\n",
       "      <td>78.604651</td>\n",
       "      <td>13.287907</td>\n",
       "      <td>8.378115</td>\n",
       "      <td>32.227008</td>\n",
       "      <td>27.189204</td>\n",
       "      <td>41.455869</td>\n",
       "      <td>41.838572</td>\n",
       "      <td>91.500380</td>\n",
       "      <td>8.499620</td>\n",
       "      <td>7.114769</td>\n",
       "    </tr>\n",
       "    <tr>\n",
       "      <th>2</th>\n",
       "      <td>2</td>\n",
       "      <td>10003</td>\n",
       "      <td>1477</td>\n",
       "      <td>787</td>\n",
       "      <td>2018</td>\n",
       "      <td>2190</td>\n",
       "      <td>42.439063</td>\n",
       "      <td>4.026729</td>\n",
       "      <td>2.383478</td>\n",
       "      <td>8.453640</td>\n",
       "      <td>...</td>\n",
       "      <td>93.917471</td>\n",
       "      <td>7.090084</td>\n",
       "      <td>5.811784</td>\n",
       "      <td>75.913463</td>\n",
       "      <td>8.240372</td>\n",
       "      <td>13.483413</td>\n",
       "      <td>19.871256</td>\n",
       "      <td>94.862022</td>\n",
       "      <td>5.137978</td>\n",
       "      <td>7.297768</td>\n",
       "    </tr>\n",
       "    <tr>\n",
       "      <th>3</th>\n",
       "      <td>3</td>\n",
       "      <td>10004</td>\n",
       "      <td>1271</td>\n",
       "      <td>35</td>\n",
       "      <td>2018</td>\n",
       "      <td>3236</td>\n",
       "      <td>47.506871</td>\n",
       "      <td>3.201970</td>\n",
       "      <td>2.372881</td>\n",
       "      <td>2.179657</td>\n",
       "      <td>...</td>\n",
       "      <td>94.575045</td>\n",
       "      <td>11.393659</td>\n",
       "      <td>1.684280</td>\n",
       "      <td>62.813738</td>\n",
       "      <td>3.698811</td>\n",
       "      <td>30.449141</td>\n",
       "      <td>27.443857</td>\n",
       "      <td>95.114943</td>\n",
       "      <td>4.885057</td>\n",
       "      <td>7.147559</td>\n",
       "    </tr>\n",
       "    <tr>\n",
       "      <th>4</th>\n",
       "      <td>4</td>\n",
       "      <td>10005</td>\n",
       "      <td>946</td>\n",
       "      <td>64</td>\n",
       "      <td>2018</td>\n",
       "      <td>3238</td>\n",
       "      <td>48.451260</td>\n",
       "      <td>2.877036</td>\n",
       "      <td>1.717187</td>\n",
       "      <td>9.511947</td>\n",
       "      <td>...</td>\n",
       "      <td>95.176040</td>\n",
       "      <td>12.535387</td>\n",
       "      <td>2.502548</td>\n",
       "      <td>73.423168</td>\n",
       "      <td>6.884838</td>\n",
       "      <td>16.951648</td>\n",
       "      <td>22.319103</td>\n",
       "      <td>97.398844</td>\n",
       "      <td>2.601156</td>\n",
       "      <td>6.852243</td>\n",
       "    </tr>\n",
       "  </tbody>\n",
       "</table>\n",
       "<p>5 rows × 26 columns</p>\n",
       "</div>"
      ],
      "text/plain": [
       "   Unnamed: 0  geoid  HIV_Case  HIV_Rate  year  Median monthly housing costs  \\\n",
       "0           0  10001      4698       928  2018                          1817   \n",
       "1           1  10002      1230       885  2018                           980   \n",
       "2           2  10003      1477       787  2018                          2190   \n",
       "3           3  10004      1271        35  2018                          3236   \n",
       "4           4  10005       946        64  2018                          3238   \n",
       "\n",
       "   % with 4year college degree  % unemployed  % manufacturing  \\\n",
       "0                    37.864887      3.514080         2.138100   \n",
       "1                    21.852603      4.919751         3.746494   \n",
       "2                    42.439063      4.026729         2.383478   \n",
       "3                    47.506871      3.201970         2.372881   \n",
       "4                    48.451260      2.877036         1.717187   \n",
       "\n",
       "   % below poverty  ...  % multiunit structures  % < 18 years old   % black  \\\n",
       "0        13.263494  ...               90.298447          8.650323  6.163846   \n",
       "1        27.657486  ...               78.604651         13.287907  8.378115   \n",
       "2         8.453640  ...               93.917471          7.090084  5.811784   \n",
       "3         2.179657  ...               94.575045         11.393659  1.684280   \n",
       "4         9.511947  ...               95.176040         12.535387  2.502548   \n",
       "\n",
       "     % white  % Hispanic    % Asian  % foreign born  % health insurance  \\\n",
       "0  62.912232   14.159832  25.187576       32.341651           94.269258   \n",
       "1  32.227008   27.189204  41.455869       41.838572           91.500380   \n",
       "2  75.913463    8.240372  13.483413       19.871256           94.862022   \n",
       "3  62.813738    3.698811  30.449141       27.443857           95.114943   \n",
       "4  73.423168    6.884838  16.951648       22.319103           97.398844   \n",
       "\n",
       "   % without health insurance  HIV_Case_log  \n",
       "0                    5.730742      8.454892  \n",
       "1                    8.499620      7.114769  \n",
       "2                    5.137978      7.297768  \n",
       "3                    4.885057      7.147559  \n",
       "4                    2.601156      6.852243  \n",
       "\n",
       "[5 rows x 26 columns]"
      ]
     },
     "execution_count": 2,
     "metadata": {},
     "output_type": "execute_result"
    }
   ],
   "source": [
    "df.head()"
   ]
  },
  {
   "cell_type": "code",
   "execution_count": 5,
   "metadata": {},
   "outputs": [
    {
     "data": {
      "image/png": "[encoded data removed]",
      "text/plain": [
       "<Figure size 432x288 with 1 Axes>"
      ]
     },
     "metadata": {
      "needs_background": "light"
     },
     "output_type": "display_data"
    },
    {
     "data": {
      "text/plain": [
       "<Figure size 432x288 with 0 Axes>"
      ]
     },
     "metadata": {},
     "output_type": "display_data"
    }
   ],
   "source": [
    "sns.distplot(df['HIV_Case'])\n",
    "fig = plt.figure()"
   ]
  },
  {
   "cell_type": "code",
   "execution_count": 41,
   "metadata": {},
   "outputs": [
    {
     "data": {
      "image/png": "[encoded data removed]",
      "text/plain": [
       "<Figure size 432x288 with 1 Axes>"
      ]
     },
     "metadata": {
      "needs_background": "light"
     },
     "output_type": "display_data"
    },
    {
     "data": {
      "text/plain": [
       "<Figure size 432x288 with 0 Axes>"
      ]
     },
     "metadata": {},
     "output_type": "display_data"
    }
   ],
   "source": [
    "df['HIV_Case_log'] = np.log(df['HIV_Case'])\n",
    "sns.distplot(df['HIV_Case_log'])\n",
    "fig = plt.figure()"
   ]
  },
  {
   "cell_type": "code",
   "execution_count": 42,
   "metadata": {},
   "outputs": [],
   "source": [
    "df.to_csv('HIV_NYC_GWR.csv')"
   ]
  },
  {
   "cell_type": "code",
   "execution_count": null,
   "metadata": {},
   "outputs": [],
   "source": []
  }
 ],
 "metadata": {
  "kernelspec": {
   "display_name": "Python 3",
   "language": "python",
   "name": "python3"
  },
  "language_info": {
   "codemirror_mode": {
    "name": "ipython",
    "version": 3
   },
   "file_extension": ".py",
   "mimetype": "text/x-python",
   "name": "python",
   "nbconvert_exporter": "python",
   "pygments_lexer": "ipython3",
   "version": "3.7.6"
  }
 },
 "nbformat": 4,
 "nbformat_minor": 4
}
